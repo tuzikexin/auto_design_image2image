{
 "cells": [
  {
   "cell_type": "code",
   "execution_count": 3,
   "id": "f1c82fe6-5169-4f86-b46d-10863b7e8c3d",
   "metadata": {},
   "outputs": [
    {
     "name": "stdout",
     "output_type": "stream",
     "text": [
      "/root/autodl-tmp/auto_design_image2image\n"
     ]
    }
   ],
   "source": [
    "!pwd"
   ]
  },
  {
   "cell_type": "code",
   "execution_count": 4,
   "id": "6736cc68-a771-47ff-ba11-5fd8eff37bb4",
   "metadata": {},
   "outputs": [
    {
     "name": "stdout",
     "output_type": "stream",
     "text": [
      "['/root/autodl-tmp/auto_design_image2image', '/root/miniconda3/lib/python38.zip', '/root/miniconda3/lib/python3.8', '/root/miniconda3/lib/python3.8/lib-dynload', '', '/root/miniconda3/lib/python3.8/site-packages']\n"
     ]
    }
   ],
   "source": [
    "import sys\n",
    "print(sys.path)"
   ]
  },
  {
   "cell_type": "code",
   "execution_count": 5,
   "id": "2e2a8a05-2b99-4b8a-a380-5c5c37f67d3b",
   "metadata": {},
   "outputs": [
    {
     "name": "stdout",
     "output_type": "stream",
     "text": [
      "+ python train.py --dataroot ./datasets/maps --name maps_cyclegan --model cycle_gan --pool_size 50 --no_dropout --n_epochs 10 --n_epochs_decay 10 --save_epoch_freq 20\n",
      "----------------- Options ---------------\n",
      "               batch_size: 1                             \n",
      "                    beta1: 0.5                           \n",
      "          checkpoints_dir: ./checkpoints                 \n",
      "           continue_train: False                         \n",
      "                crop_size: 256                           \n",
      "                 dataroot: ./datasets/maps               \t[default: None]\n",
      "             dataset_mode: unaligned                     \n",
      "                direction: AtoB                          \n",
      "              display_env: main                          \n",
      "             display_freq: 400                           \n",
      "               display_id: 1                             \n",
      "            display_ncols: 4                             \n",
      "             display_port: 8097                          \n",
      "           display_server: http://localhost              \n",
      "                    epoch: latest                        \n",
      "              epoch_count: 1                             \n",
      "                 gan_mode: lsgan                         \n",
      "                  gpu_ids: 0                             \n",
      "                init_gain: 0.02                          \n",
      "                init_type: normal                        \n",
      "                 input_nc: 3                             \n",
      "                  isTrain: True                          \t[default: None]\n",
      "                 lambda_A: 10.0                          \n",
      "                 lambda_B: 10.0                          \n",
      "          lambda_identity: 0.5                           \n",
      "                load_iter: 0                             \t[default: 0]\n",
      "                load_size: 286                           \n",
      "                       lr: 0.0002                        \n",
      "           lr_decay_iters: 50                            \n",
      "                lr_policy: linear                        \n",
      "         max_dataset_size: inf                           \n",
      "                    model: cycle_gan                     \n",
      "                 n_epochs: 10                            \t[default: 100]\n",
      "           n_epochs_decay: 10                            \t[default: 100]\n",
      "               n_layers_D: 3                             \n",
      "                     name: maps_cyclegan                 \t[default: experiment_name]\n",
      "                      ndf: 64                            \n",
      "                     netD: basic                         \n",
      "                     netG: resnet_9blocks                \n",
      "                      ngf: 64                            \n",
      "               no_dropout: True                          \n",
      "                  no_flip: False                         \n",
      "                  no_html: False                         \n",
      "                     norm: instance                      \n",
      "              num_threads: 4                             \n",
      "                output_nc: 3                             \n",
      "                    phase: train                         \n",
      "                pool_size: 50                            \n",
      "               preprocess: resize_and_crop               \n",
      "               print_freq: 100                           \n",
      "             save_by_iter: False                         \n",
      "          save_epoch_freq: 20                            \t[default: 5]\n",
      "         save_latest_freq: 5000                          \n",
      "           serial_batches: False                         \n",
      "                   suffix:                               \n",
      "         update_html_freq: 1000                          \n",
      "                  verbose: False                         \n",
      "----------------- End -------------------\n",
      "dataset [UnalignedDataset] was created\n",
      "The number of training images = 20\n",
      "initialize network with normal\n",
      "initialize network with normal\n",
      "initialize network with normal\n",
      "initialize network with normal\n",
      "model [CycleGANModel] was created\n",
      "---------- Networks initialized -------------\n",
      "[Network G_A] Total number of parameters : 11.378 M\n",
      "[Network G_B] Total number of parameters : 11.378 M\n",
      "[Network D_A] Total number of parameters : 2.765 M\n",
      "[Network D_B] Total number of parameters : 2.765 M\n",
      "-----------------------------------------------\n",
      "/root/miniconda3/lib/python3.8/site-packages/torch/optim/lr_scheduler.py:131: UserWarning: Detected call of `lr_scheduler.step()` before `optimizer.step()`. In PyTorch 1.1.0 and later, you should call them in the opposite order: `optimizer.step()` before `lr_scheduler.step()`.  Failure to do this will result in PyTorch skipping the first value of the learning rate schedule. See more details at https://pytorch.org/docs/stable/optim.html#how-to-adjust-learning-rate\n",
      "  warnings.warn(\"Detected call of `lr_scheduler.step()` before `optimizer.step()`. \"\n",
      "learning rate 0.0002000 -> 0.0002000\n",
      "End of epoch 1 / 20 \t Time Taken: 7 sec\n",
      "learning rate 0.0002000 -> 0.0002000\n",
      "End of epoch 2 / 20 \t Time Taken: 6 sec\n",
      "learning rate 0.0002000 -> 0.0002000\n",
      "End of epoch 3 / 20 \t Time Taken: 7 sec\n",
      "learning rate 0.0002000 -> 0.0002000\n",
      "End of epoch 4 / 20 \t Time Taken: 7 sec\n",
      "learning rate 0.0002000 -> 0.0002000\n",
      "End of epoch 5 / 20 \t Time Taken: 7 sec\n",
      "learning rate 0.0002000 -> 0.0002000\n",
      "End of epoch 6 / 20 \t Time Taken: 7 sec\n",
      "learning rate 0.0002000 -> 0.0002000\n",
      "End of epoch 7 / 20 \t Time Taken: 7 sec\n",
      "learning rate 0.0002000 -> 0.0002000\n",
      "End of epoch 8 / 20 \t Time Taken: 7 sec\n",
      "learning rate 0.0002000 -> 0.0002000\n",
      "End of epoch 9 / 20 \t Time Taken: 7 sec\n",
      "learning rate 0.0002000 -> 0.0001818\n",
      "End of epoch 10 / 20 \t Time Taken: 7 sec\n",
      "learning rate 0.0001818 -> 0.0001636\n",
      "End of epoch 11 / 20 \t Time Taken: 7 sec\n",
      "learning rate 0.0001636 -> 0.0001455\n",
      "End of epoch 12 / 20 \t Time Taken: 7 sec\n",
      "learning rate 0.0001455 -> 0.0001273\n",
      "End of epoch 13 / 20 \t Time Taken: 7 sec\n",
      "learning rate 0.0001273 -> 0.0001091\n",
      "End of epoch 14 / 20 \t Time Taken: 6 sec\n",
      "learning rate 0.0001091 -> 0.0000909\n",
      "End of epoch 15 / 20 \t Time Taken: 7 sec\n",
      "learning rate 0.0000909 -> 0.0000727\n",
      "End of epoch 16 / 20 \t Time Taken: 6 sec\n",
      "learning rate 0.0000727 -> 0.0000545\n",
      "End of epoch 17 / 20 \t Time Taken: 6 sec\n",
      "learning rate 0.0000545 -> 0.0000364\n",
      "End of epoch 18 / 20 \t Time Taken: 7 sec\n",
      "learning rate 0.0000364 -> 0.0000182\n",
      "End of epoch 19 / 20 \t Time Taken: 7 sec\n",
      "learning rate 0.0000182 -> 0.0000000\n",
      "saving the model at the end of epoch 20, iters 400\n",
      "End of epoch 20 / 20 \t Time Taken: 7 sec\n"
     ]
    }
   ],
   "source": [
    "! sh ./src/train_cyclegan.sh"
   ]
  },
  {
   "cell_type": "code",
   "execution_count": 1,
   "id": "5eb01760-a654-41fa-aab2-a96575c13188",
   "metadata": {},
   "outputs": [
    {
     "name": "stdout",
     "output_type": "stream",
     "text": [
      "+ python test.py --dataroot ./datasets/maps --name maps_cyclegan --model cycle_gan --phase test --no_dropout --use_wandb\n",
      "Warning: wandb package cannot be found. The option \"--use_wandb\" will result in error.\n",
      "Warning: wandb package cannot be found. The option \"--use_wandb\" will result in error.\n",
      "----------------- Options ---------------\n",
      "             aspect_ratio: 1.0                           \n",
      "               batch_size: 1                             \n",
      "          checkpoints_dir: ./checkpoints                 \n",
      "                crop_size: 256                           \n",
      "                 dataroot: ./datasets/maps               \t[default: None]\n",
      "             dataset_mode: unaligned                     \n",
      "                direction: AtoB                          \n",
      "          display_winsize: 256                           \n",
      "                    epoch: latest                        \n",
      "                     eval: False                         \n",
      "                  gpu_ids: 0                             \n",
      "                init_gain: 0.02                          \n",
      "                init_type: normal                        \n",
      "                 input_nc: 3                             \n",
      "                  isTrain: False                         \t[default: None]\n",
      "                load_iter: 0                             \t[default: 0]\n",
      "                load_size: 256                           \n",
      "         max_dataset_size: inf                           \n",
      "                    model: cycle_gan                     \t[default: test]\n",
      "               n_layers_D: 3                             \n",
      "                     name: maps_cyclegan                 \t[default: experiment_name]\n",
      "                      ndf: 64                            \n",
      "                     netD: basic                         \n",
      "                     netG: resnet_9blocks                \n",
      "                      ngf: 64                            \n",
      "               no_dropout: True                          \n",
      "                  no_flip: False                         \n",
      "                     norm: instance                      \n",
      "                 num_test: 50                            \n",
      "              num_threads: 4                             \n",
      "                output_nc: 3                             \n",
      "                    phase: test                          \n",
      "               preprocess: resize_and_crop               \n",
      "              results_dir: ./results/                    \n",
      "           serial_batches: False                         \n",
      "                   suffix:                               \n",
      "                use_wandb: False                         \t[default: True]\n",
      "                  verbose: False                         \n",
      "----------------- End -------------------\n",
      "dataset [UnalignedDataset] was created\n",
      "initialize network with normal\n",
      "initialize network with normal\n",
      "model [CycleGANModel] was created\n",
      "loading the model from ./checkpoints/maps_cyclegan/latest_net_G_A.pth\n",
      "loading the model from ./checkpoints/maps_cyclegan/latest_net_G_B.pth\n",
      "---------- Networks initialized -------------\n",
      "[Network G_A] Total number of parameters : 11.378 M\n",
      "[Network G_B] Total number of parameters : 11.378 M\n",
      "-----------------------------------------------\n",
      "creating web directory ./results/maps_cyclegan/test_latest\n",
      "processing (0000)-th image... ['./datasets/maps/testA/1_A.jpg']\n",
      "processing (0005)-th image... ['./datasets/maps/testA/6_A.jpg']\n"
     ]
    }
   ],
   "source": [
    "!sh ./src/test_cyclegan.sh"
   ]
  },
  {
   "cell_type": "code",
   "execution_count": null,
   "id": "130854d6-5c28-4a47-84d3-a08d47d9c6b5",
   "metadata": {},
   "outputs": [],
   "source": []
  },
  {
   "cell_type": "code",
   "execution_count": null,
   "id": "1e2d0619-ce38-4bf5-b178-70c7a3c8b2f7",
   "metadata": {},
   "outputs": [],
   "source": []
  }
 ],
 "metadata": {
  "kernelspec": {
   "display_name": "Python 3 (ipykernel)",
   "language": "python",
   "name": "python3"
  },
  "language_info": {
   "codemirror_mode": {
    "name": "ipython",
    "version": 3
   },
   "file_extension": ".py",
   "mimetype": "text/x-python",
   "name": "python",
   "nbconvert_exporter": "python",
   "pygments_lexer": "ipython3",
   "version": "3.8.10"
  }
 },
 "nbformat": 4,
 "nbformat_minor": 5
}
